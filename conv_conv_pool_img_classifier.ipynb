{
 "cells": [
  {
   "cell_type": "markdown",
   "metadata": {},
   "source": [
    "## Abnormality Detection in bone X-Rays with CNN\n",
    "**CNN Conv-Conv-Pool-Conv-Conv-Pool Architecture**\n",
    "\n",
    "* Katerina Kazantza (p3351801)"
   ]
  },
  {
   "cell_type": "code",
   "execution_count": 1,
   "metadata": {},
   "outputs": [],
   "source": [
    "import numpy as np\n",
    "import pandas as pd\n",
    "import PIL\n",
    "from tensorflow.keras import layers\n",
    "from pathlib import Path\n",
    "import tensorflow as tf\n",
    "import matplotlib.pyplot as plt\n",
    "from keras_preprocessing.image import ImageDataGenerator\n",
    "from tensorflow.keras.callbacks import EarlyStopping, ReduceLROnPlateau, ModelCheckpoint, Callback\n",
    "from tensorflow.keras.layers import Activation, Dropout, Flatten, Dense, Input, Convolution2D, MaxPooling2D\n",
    "from tensorflow.keras.models import Model \n",
    "from sklearn.metrics import confusion_matrix, classification_report,roc_curve,auc\n",
    "from PIL import Image\n",
    "import cv2\n",
    "import random"
   ]
  },
  {
   "cell_type": "markdown",
   "metadata": {},
   "source": [
    "### Data Processing"
   ]
  },
  {
   "cell_type": "code",
   "execution_count": 2,
   "metadata": {},
   "outputs": [],
   "source": [
    "dataset_root = Path('data/MURA-v1.1')"
   ]
  },
  {
   "cell_type": "code",
   "execution_count": 3,
   "metadata": {},
   "outputs": [
    {
     "data": {
      "text/plain": [
       "[WindowsPath('data/MURA-v1.1/train'),\n",
       " WindowsPath('data/MURA-v1.1/train_image_paths.csv'),\n",
       " WindowsPath('data/MURA-v1.1/train_labeled_studies.csv'),\n",
       " WindowsPath('data/MURA-v1.1/valid'),\n",
       " WindowsPath('data/MURA-v1.1/valid_image_paths.csv'),\n",
       " WindowsPath('data/MURA-v1.1/valid_labeled_studies.csv')]"
      ]
     },
     "execution_count": 3,
     "metadata": {},
     "output_type": "execute_result"
    }
   ],
   "source": [
    "list(dataset_root.iterdir())"
   ]
  },
  {
   "cell_type": "code",
   "execution_count": 4,
   "metadata": {},
   "outputs": [
    {
     "data": {
      "text/html": [
       "<div>\n",
       "<style scoped>\n",
       "    .dataframe tbody tr th:only-of-type {\n",
       "        vertical-align: middle;\n",
       "    }\n",
       "\n",
       "    .dataframe tbody tr th {\n",
       "        vertical-align: top;\n",
       "    }\n",
       "\n",
       "    .dataframe thead th {\n",
       "        text-align: right;\n",
       "    }\n",
       "</style>\n",
       "<table border=\"1\" class=\"dataframe\">\n",
       "  <thead>\n",
       "    <tr style=\"text-align: right;\">\n",
       "      <th></th>\n",
       "      <th>filename</th>\n",
       "    </tr>\n",
       "  </thead>\n",
       "  <tbody>\n",
       "    <tr>\n",
       "      <th>0</th>\n",
       "      <td>MURA-v1.1/train/XR_SHOULDER/patient00001/study...</td>\n",
       "    </tr>\n",
       "    <tr>\n",
       "      <th>1</th>\n",
       "      <td>MURA-v1.1/train/XR_SHOULDER/patient00001/study...</td>\n",
       "    </tr>\n",
       "    <tr>\n",
       "      <th>2</th>\n",
       "      <td>MURA-v1.1/train/XR_SHOULDER/patient00001/study...</td>\n",
       "    </tr>\n",
       "    <tr>\n",
       "      <th>3</th>\n",
       "      <td>MURA-v1.1/train/XR_SHOULDER/patient00002/study...</td>\n",
       "    </tr>\n",
       "    <tr>\n",
       "      <th>4</th>\n",
       "      <td>MURA-v1.1/train/XR_SHOULDER/patient00002/study...</td>\n",
       "    </tr>\n",
       "  </tbody>\n",
       "</table>\n",
       "</div>"
      ],
      "text/plain": [
       "                                            filename\n",
       "0  MURA-v1.1/train/XR_SHOULDER/patient00001/study...\n",
       "1  MURA-v1.1/train/XR_SHOULDER/patient00001/study...\n",
       "2  MURA-v1.1/train/XR_SHOULDER/patient00001/study...\n",
       "3  MURA-v1.1/train/XR_SHOULDER/patient00002/study...\n",
       "4  MURA-v1.1/train/XR_SHOULDER/patient00002/study..."
      ]
     },
     "execution_count": 4,
     "metadata": {},
     "output_type": "execute_result"
    }
   ],
   "source": [
    "train_imgpaths_df = pd.read_csv(dataset_root/'train_image_paths.csv', header=None, names=['filename'])\n",
    "train_imgpaths_df.head()"
   ]
  },
  {
   "cell_type": "code",
   "execution_count": 5,
   "metadata": {},
   "outputs": [
    {
     "data": {
      "text/html": [
       "<div>\n",
       "<style scoped>\n",
       "    .dataframe tbody tr th:only-of-type {\n",
       "        vertical-align: middle;\n",
       "    }\n",
       "\n",
       "    .dataframe tbody tr th {\n",
       "        vertical-align: top;\n",
       "    }\n",
       "\n",
       "    .dataframe thead th {\n",
       "        text-align: right;\n",
       "    }\n",
       "</style>\n",
       "<table border=\"1\" class=\"dataframe\">\n",
       "  <thead>\n",
       "    <tr style=\"text-align: right;\">\n",
       "      <th></th>\n",
       "      <th>filename</th>\n",
       "      <th>class</th>\n",
       "    </tr>\n",
       "  </thead>\n",
       "  <tbody>\n",
       "    <tr>\n",
       "      <th>0</th>\n",
       "      <td>MURA-v1.1/train/XR_SHOULDER/patient00001/study...</td>\n",
       "      <td>positive</td>\n",
       "    </tr>\n",
       "    <tr>\n",
       "      <th>1</th>\n",
       "      <td>MURA-v1.1/train/XR_SHOULDER/patient00001/study...</td>\n",
       "      <td>positive</td>\n",
       "    </tr>\n",
       "    <tr>\n",
       "      <th>2</th>\n",
       "      <td>MURA-v1.1/train/XR_SHOULDER/patient00001/study...</td>\n",
       "      <td>positive</td>\n",
       "    </tr>\n",
       "    <tr>\n",
       "      <th>3</th>\n",
       "      <td>MURA-v1.1/train/XR_SHOULDER/patient00002/study...</td>\n",
       "      <td>positive</td>\n",
       "    </tr>\n",
       "    <tr>\n",
       "      <th>4</th>\n",
       "      <td>MURA-v1.1/train/XR_SHOULDER/patient00002/study...</td>\n",
       "      <td>positive</td>\n",
       "    </tr>\n",
       "  </tbody>\n",
       "</table>\n",
       "</div>"
      ],
      "text/plain": [
       "                                            filename     class\n",
       "0  MURA-v1.1/train/XR_SHOULDER/patient00001/study...  positive\n",
       "1  MURA-v1.1/train/XR_SHOULDER/patient00001/study...  positive\n",
       "2  MURA-v1.1/train/XR_SHOULDER/patient00001/study...  positive\n",
       "3  MURA-v1.1/train/XR_SHOULDER/patient00002/study...  positive\n",
       "4  MURA-v1.1/train/XR_SHOULDER/patient00002/study...  positive"
      ]
     },
     "execution_count": 5,
     "metadata": {},
     "output_type": "execute_result"
    }
   ],
   "source": [
    "train_imgpaths_df['class'] = (train_imgpaths_df.filename\n",
    "               .str.extract('study.*_(positive|negative)'))\n",
    "train_imgpaths_df.head()"
   ]
  },
  {
   "cell_type": "markdown",
   "metadata": {},
   "source": [
    "#### We are sampling half of the training dataset in order to normalize the ImageDataGenerators (This is memory intensive)"
   ]
  },
  {
   "cell_type": "code",
   "execution_count": 6,
   "metadata": {},
   "outputs": [],
   "source": [
    "x_train = []\n",
    "y_train = []\n",
    "\n",
    "for index, row in train_imgpaths_df.iterrows():\n",
    "    val = random.randint(0,1)\n",
    "    if val==1:\n",
    "        image = cv2.imread('data/'+row['filename'])\n",
    "        image = cv2.resize(image,(224,224))    \n",
    "        image = image[...,::-1].astype(np.float32)\n",
    "        x_train.append(image)\n",
    "        y_train.append(row['class'])"
   ]
  },
  {
   "cell_type": "code",
   "execution_count": 7,
   "metadata": {},
   "outputs": [],
   "source": [
    "x_train = np.array(x_train).astype('float32') "
   ]
  },
  {
   "cell_type": "code",
   "execution_count": 8,
   "metadata": {},
   "outputs": [
    {
     "data": {
      "text/plain": [
       "(18508, 224, 224, 3)"
      ]
     },
     "execution_count": 8,
     "metadata": {},
     "output_type": "execute_result"
    }
   ],
   "source": [
    "x_train.shape"
   ]
  },
  {
   "cell_type": "markdown",
   "metadata": {},
   "source": [
    "#### Data Augmentation\n",
    "We use Keras’s ImageDataGenerator to perform image augmentation and scale the size of images as 224×224. Then we generate the train and validation dataframes in order to feed the flow_from_dataframe method which have the mapping between filenames of the images and their labels."
   ]
  },
  {
   "cell_type": "code",
   "execution_count": 9,
   "metadata": {},
   "outputs": [],
   "source": [
    "def generate_df(dataset_root, csv_name):\n",
    "    df = pd.read_csv(dataset_root/csv_name, header=None, names=['filename'])\n",
    "    df['class'] = (df.filename\n",
    "               .str.extract('study.*_(positive|negative)'))\n",
    "    return df"
   ]
  },
  {
   "cell_type": "code",
   "execution_count": 10,
   "metadata": {},
   "outputs": [],
   "source": [
    "datagenerator = ImageDataGenerator(rescale = 1. / 255, validation_split=0.3,featurewise_center=True,\n",
    "                                   featurewise_std_normalization=True,vertical_flip=False)\n",
    "datagenerator.fit(x_train)"
   ]
  },
  {
   "cell_type": "code",
   "execution_count": 11,
   "metadata": {},
   "outputs": [],
   "source": [
    "test_datagenerator = ImageDataGenerator(rescale=1./255,featurewise_center=True, \n",
    "                                   featurewise_std_normalization=True)\n",
    "test_datagenerator.fit(x_train)"
   ]
  },
  {
   "cell_type": "code",
   "execution_count": 12,
   "metadata": {},
   "outputs": [
    {
     "name": "stdout",
     "output_type": "stream",
     "text": [
      "Found 25766 validated image filenames belonging to 2 classes.\n",
      "Found 11042 validated image filenames belonging to 2 classes.\n"
     ]
    }
   ],
   "source": [
    "train_generator = datagenerator.flow_from_dataframe(generate_df(dataset_root, 'train_image_paths.csv'),\n",
    "                                        directory=dataset_root.parent,\n",
    "                                        subset=\"training\",\n",
    "                                        batch_size=32,\n",
    "                                        seed=42,\n",
    "                                        shuffle=True,\n",
    "                                        target_size=(224, 224),\n",
    "                                        class_mode='binary')\n",
    "valid_generator = datagenerator.flow_from_dataframe(generate_df(dataset_root, 'train_image_paths.csv'),\n",
    "                                        directory=dataset_root.parent,\n",
    "                                        subset=\"validation\",\n",
    "                                        batch_size=32,\n",
    "                                        seed=42,\n",
    "                                        shuffle=True,\n",
    "                                        target_size=(224, 224),\n",
    "                                        class_mode='binary')"
   ]
  },
  {
   "cell_type": "code",
   "execution_count": 13,
   "metadata": {},
   "outputs": [
    {
     "name": "stdout",
     "output_type": "stream",
     "text": [
      "Found 3197 validated image filenames belonging to 2 classes.\n"
     ]
    }
   ],
   "source": [
    "\n",
    "test_generator = test_datagenerator.flow_from_dataframe(generate_df(dataset_root, 'valid_image_paths.csv'),\n",
    "                                        directory=dataset_root.parent,\n",
    "                                        batch_size=32,\n",
    "                                        seed=42,\n",
    "                                        shuffle=False,\n",
    "                                        target_size=(224, 224),\n",
    "                                        class_mode='binary')"
   ]
  },
  {
   "cell_type": "markdown",
   "metadata": {},
   "source": [
    "### Build Model CNN Conv-Conv-Pool-Conv-Conv-Pool\n",
    "#### Create Model"
   ]
  },
  {
   "cell_type": "code",
   "execution_count": 14,
   "metadata": {},
   "outputs": [],
   "source": [
    "# in each iteration, we consider 32 training examples at once\n",
    "batch_size = 32 \n",
    "# we iterate up to 200 times over the entire training set (depending on the early stopping etc)\n",
    "num_epochs = 200 \n",
    "# Convnet Hyper-parameters\n",
    "# we will use 3x3 kernels (filters) throughout the network\n",
    "kernel_size_l1 = 3 \n",
    "kernel_size_l2 = 5 \n",
    "kernel_size_l3 = 7\n",
    "kernel_size_l4 = 9 \n",
    "# we will use 2x2 pooling throughout the network\n",
    "pool_size = 4 \n",
    "# # we will initially have 32 kernels per conv. layer...\n",
    "conv_depth_1 = 128 \n",
    "# ...switching to 64 after the first pooling layer\n",
    "conv_depth_2 = 256 \n",
    "# dropout after pooling with probability 0.25\n",
    "drop_prob_1 = 0.25 \n",
    "# dropout in the FC layer with probability 0.5\n",
    "drop_prob_2 = 0.3\n",
    "hidden_size = 512 # the FC layer will have 512 neurons\n",
    "height = 224\n",
    "width = 224\n",
    "depth = 3"
   ]
  },
  {
   "cell_type": "code",
   "execution_count": 15,
   "metadata": {},
   "outputs": [
    {
     "name": "stdout",
     "output_type": "stream",
     "text": [
      "Model: \"model\"\n",
      "_________________________________________________________________\n",
      "Layer (type)                 Output Shape              Param #   \n",
      "=================================================================\n",
      "input_1 (InputLayer)         [(None, 224, 224, 3)]     0         \n",
      "_________________________________________________________________\n",
      "conv2d (Conv2D)              (None, 224, 224, 128)     3584      \n",
      "_________________________________________________________________\n",
      "conv2d_1 (Conv2D)            (None, 224, 224, 128)     409728    \n",
      "_________________________________________________________________\n",
      "max_pooling2d (MaxPooling2D) (None, 56, 56, 128)       0         \n",
      "_________________________________________________________________\n",
      "dropout (Dropout)            (None, 56, 56, 128)       0         \n",
      "_________________________________________________________________\n",
      "conv2d_2 (Conv2D)            (None, 56, 56, 256)       1605888   \n",
      "_________________________________________________________________\n",
      "conv2d_3 (Conv2D)            (None, 56, 56, 256)       5308672   \n",
      "_________________________________________________________________\n",
      "max_pooling2d_1 (MaxPooling2 (None, 14, 14, 256)       0         \n",
      "_________________________________________________________________\n",
      "dropout_1 (Dropout)          (None, 14, 14, 256)       0         \n",
      "_________________________________________________________________\n",
      "flatten (Flatten)            (None, 50176)             0         \n",
      "_________________________________________________________________\n",
      "dense (Dense)                (None, 512)               25690624  \n",
      "_________________________________________________________________\n",
      "dropout_2 (Dropout)          (None, 512)               0         \n",
      "_________________________________________________________________\n",
      "dense_1 (Dense)              (None, 1)                 513       \n",
      "=================================================================\n",
      "Total params: 33,019,009\n",
      "Trainable params: 33,019,009\n",
      "Non-trainable params: 0\n",
      "_________________________________________________________________\n"
     ]
    }
   ],
   "source": [
    "inp = Input(shape=(height, width, depth))\n",
    "\n",
    "# set the convolutional layer 1 (conv_1)\n",
    "conv_1 = Convolution2D(conv_depth_1,  # this is just the instantiation. \n",
    "                       (kernel_size_l1, kernel_size_l1),\n",
    "                       padding='same',\n",
    "                       activation='relu')\n",
    "\n",
    "# pass the input layer through the first conv-layer\n",
    "conv_1 = conv_1(inp)\n",
    "\n",
    "# set the convolutional layer 2 (conv_2)\n",
    "conv_2 = Convolution2D(conv_depth_1, # this is NOT just the instantiation. \n",
    "                       (kernel_size_l2, kernel_size_l2),\n",
    "                       padding='same', \n",
    "                       activation='relu')(conv_1) # in this line we pass the conv_1 as input to conv_2\n",
    "\n",
    "# Create a Max Pooling Layer for the 2D filter \n",
    "pool_1 = MaxPooling2D(pool_size=(pool_size,\n",
    "                                 pool_size))(conv_2) # pass here the second conv-layer (conv_2)\n",
    "\n",
    "# Add a Dropout Layer to reduce overfitting\n",
    "drop_1 = Dropout(drop_prob_1)(pool_1)\n",
    "\n",
    "# Create a third conv-layer\n",
    "conv_3 = Convolution2D(conv_depth_2,\n",
    "                       (kernel_size_l3, kernel_size_l3),\n",
    "                       padding='same',\n",
    "                       activation='relu')(drop_1)\n",
    "\n",
    "# Create a fourth conv-layer\n",
    "conv_4 = Convolution2D(conv_depth_2,\n",
    "                       (kernel_size_l4, kernel_size_l4),\n",
    "                       padding='same', \n",
    "                       activation='relu')(conv_3)\n",
    "\n",
    "# Again a Max Pooling Layer\n",
    "pool_2 = MaxPooling2D(pool_size=(pool_size, pool_size))(conv_4)\n",
    "\n",
    "# Another dropout layer after the max-pooling layer\n",
    "drop_2 = Dropout(drop_prob_1)(pool_2)\n",
    "\n",
    "# Flatten the output of the drop_2\n",
    "flat = Flatten()(drop_2)\n",
    "\n",
    "# Add a Dense layer\n",
    "hidden = Dense(hidden_size,activation='relu')(flat)\n",
    "\n",
    "# Add a Dropout layer\n",
    "drop_3 = Dropout(drop_prob_2)(hidden)\n",
    "\n",
    "out = Dense(1,activation='sigmoid')(drop_3)\n",
    "\n",
    "# create the actual model\n",
    "model = Model(inputs=inp, outputs=out)\n",
    "model.summary()"
   ]
  },
  {
   "cell_type": "code",
   "execution_count": 16,
   "metadata": {},
   "outputs": [],
   "source": [
    "model.compile(loss=tf.keras.losses.binary_crossentropy,\n",
    "              optimizer=tf.keras.optimizers.Adam(),\n",
    "              metrics=['acc', 'mse'])"
   ]
  },
  {
   "cell_type": "code",
   "execution_count": 17,
   "metadata": {},
   "outputs": [
    {
     "name": "stdout",
     "output_type": "stream",
     "text": [
      "STEP_SIZE_TRAIN= 805 ,STEP_SIZE_VALID= 345 ,STEP_SIZE_TEST= 99\n"
     ]
    }
   ],
   "source": [
    "STEP_SIZE_TRAIN=train_generator.n//train_generator.batch_size\n",
    "STEP_SIZE_VALID=valid_generator.n//valid_generator.batch_size\n",
    "STEP_SIZE_TEST=test_generator.n//test_generator.batch_size\n",
    "print(\"STEP_SIZE_TRAIN=\",STEP_SIZE_TRAIN,\",STEP_SIZE_VALID=\",STEP_SIZE_VALID,\",STEP_SIZE_TEST=\",STEP_SIZE_TEST)"
   ]
  },
  {
   "cell_type": "code",
   "execution_count": 18,
   "metadata": {},
   "outputs": [],
   "source": [
    "#callbacks for early stopping incase of reduced learning rate, loss unimprovement\n",
    "early_stop = EarlyStopping(monitor='val_loss', patience=5, verbose=1, min_delta=1e-4,restore_best_weights=True)\n",
    "reduce_lr = ReduceLROnPlateau(monitor='val_loss', factor=0.1, patience=1, verbose=1, min_lr=0.0001)\n",
    "callbacks_list = [early_stop, reduce_lr]"
   ]
  },
  {
   "cell_type": "code",
   "execution_count": 19,
   "metadata": {},
   "outputs": [
    {
     "name": "stdout",
     "output_type": "stream",
     "text": [
      "WARNING:tensorflow:sample_weight modes were coerced from\n",
      "  ...\n",
      "    to  \n",
      "  ['...']\n",
      "WARNING:tensorflow:sample_weight modes were coerced from\n",
      "  ...\n",
      "    to  \n",
      "  ['...']\n",
      "Train for 805 steps, validate for 345 steps\n",
      "Epoch 1/200\n",
      "805/805 [==============================] - 331s 411ms/step - loss: 0.6685 - acc: 0.6582 - mse: 0.2273 - val_loss: 0.7703 - val_acc: 0.4464 - val_mse: 0.2871\n",
      "Epoch 2/200\n",
      "805/805 [==============================] - 315s 392ms/step - loss: 0.6432 - acc: 0.6600 - mse: 0.2253 - val_loss: 0.7617 - val_acc: 0.4464 - val_mse: 0.2832\n",
      "Epoch 3/200\n",
      "804/805 [============================>.] - ETA: 0s - loss: 0.6421 - acc: 0.6599 - mse: 0.2248\n",
      "Epoch 00003: ReduceLROnPlateau reducing learning rate to 0.00010000000474974513.\n",
      "805/805 [==============================] - 316s 392ms/step - loss: 0.6420 - acc: 0.6601 - mse: 0.2248 - val_loss: 0.7791 - val_acc: 0.4464 - val_mse: 0.2911\n",
      "Epoch 4/200\n",
      "804/805 [============================>.] - ETA: 0s - loss: 0.6418 - acc: 0.6602 - mse: 0.2247\n",
      "Epoch 00004: ReduceLROnPlateau reducing learning rate to 0.0001.\n",
      "805/805 [==============================] - 316s 392ms/step - loss: 0.6418 - acc: 0.6601 - mse: 0.2247 - val_loss: 0.7785 - val_acc: 0.4464 - val_mse: 0.2908\n",
      "Epoch 5/200\n",
      "805/805 [==============================] - 316s 392ms/step - loss: 0.6419 - acc: 0.6601 - mse: 0.2247 - val_loss: 0.7785 - val_acc: 0.4464 - val_mse: 0.2909\n",
      "Epoch 6/200\n",
      "805/805 [==============================] - 315s 392ms/step - loss: 0.6418 - acc: 0.6600 - mse: 0.2247 - val_loss: 0.7885 - val_acc: 0.4464 - val_mse: 0.2953\n",
      "Epoch 7/200\n",
      "804/805 [============================>.] - ETA: 0s - loss: 0.6416 - acc: 0.6601 - mse: 0.2246Restoring model weights from the end of the best epoch.\n",
      "805/805 [==============================] - 315s 392ms/step - loss: 0.6416 - acc: 0.6601 - mse: 0.2246 - val_loss: 0.7773 - val_acc: 0.4464 - val_mse: 0.2903\n",
      "Epoch 00007: early stopping\n"
     ]
    }
   ],
   "source": [
    "epochs=200\n",
    "with tf.device('/device:GPU:0'):\n",
    "    model_history = model.fit(train_generator,\n",
    "                        epochs=epochs,\n",
    "                        workers=0,\n",
    "                        use_multiprocessing=False,\n",
    "                        steps_per_epoch = STEP_SIZE_TRAIN,\n",
    "                        validation_data=valid_generator,\n",
    "                        validation_steps=STEP_SIZE_VALID,\n",
    "                        callbacks=callbacks_list\n",
    ")"
   ]
  },
  {
   "cell_type": "markdown",
   "metadata": {},
   "source": [
    "#### Saving Model"
   ]
  },
  {
   "cell_type": "code",
   "execution_count": null,
   "metadata": {},
   "outputs": [],
   "source": [
    "model.save(\"models\\\\cnnyc\\\\\")"
   ]
  },
  {
   "cell_type": "markdown",
   "metadata": {},
   "source": [
    "#### Evaluation"
   ]
  },
  {
   "cell_type": "code",
   "execution_count": 1,
   "metadata": {},
   "outputs": [],
   "source": [
    "from keras.utils import plot_model \n",
    "from keras.utils.vis_utils import *\n",
    "import keras\n",
    "import importlib\n",
    "importlib.reload(keras.utils.vis_utils)"
   ]
  },
  {
   "cell_type": "code",
   "execution_count": 21,
   "metadata": {},
   "outputs": [
    {
     "data": {
      "image/png": "[encoded data removed]",
      "text/plain": [
       "<Figure size 432x288 with 1 Axes>"
      ]
     },
     "metadata": {
      "needs_background": "light"
     },
     "output_type": "display_data"
    },
    {
     "data": {
      "image/png": "[encoded data removed]",
      "text/plain": [
       "<Figure size 576x432 with 1 Axes>"
      ]
     },
     "metadata": {
      "needs_background": "light"
     },
     "output_type": "display_data"
    },
    {
     "data": {
      "image/png": "[encoded data removed]",
      "text/plain": [
       "<Figure size 576x432 with 1 Axes>"
      ]
     },
     "metadata": {
      "needs_background": "light"
     },
     "output_type": "display_data"
    }
   ],
   "source": [
    "#Now we have trained our model, we can see the metrics during the training proccess\n",
    "plt.figure(0)\n",
    "plt.plot(model_history.history['acc'])\n",
    "plt.plot(model_history.history['val_acc'])\n",
    "plt.xticks(np.arange(0, 10, 1))\n",
    "plt.rcParams['figure.figsize'] = (8, 6)\n",
    "plt.xlabel(\"Num of Epochs\")\n",
    "plt.ylabel(\"Accuracy\")\n",
    "plt.title(\"Training Accuracy vs Validation Accuracy\")\n",
    "plt.legend(['train','validation'])\n",
    " \n",
    "plt.figure(1)\n",
    "plt.plot(model_history.history['loss'])\n",
    "plt.plot(model_history.history['val_loss'])\n",
    "plt.xticks(np.arange(0, 10, 1))\n",
    "plt.rcParams['figure.figsize'] = (8, 6)\n",
    "plt.xlabel(\"Num of Epochs\")\n",
    "plt.ylabel(\"Loss\")\n",
    "plt.title(\"Training Loss vs Validation Loss\")\n",
    "plt.legend(['train','validation'])\n",
    "\n",
    "plt.figure(2)\n",
    "plt.plot(model_history.history['mse'])\n",
    "plt.plot(model_history.history['val_mse'])\n",
    "plt.xticks(np.arange(0, 10, 1))\n",
    "plt.rcParams['figure.figsize'] = (8, 6)\n",
    "plt.xlabel(\"Num of Epochs\")\n",
    "plt.ylabel(\"MSE\")\n",
    "plt.title(\"Training Loss vs Validation MSE\")\n",
    "plt.legend(['train','validation'])\n",
    " \n",
    "plt.show()"
   ]
  },
  {
   "cell_type": "markdown",
   "metadata": {},
   "source": [
    "#### Evaluation on test set"
   ]
  },
  {
   "cell_type": "code",
   "execution_count": 22,
   "metadata": {},
   "outputs": [
    {
     "name": "stdout",
     "output_type": "stream",
     "text": [
      "WARNING:tensorflow:From <ipython-input-22-929203d3d3d4>:1: Model.evaluate_generator (from tensorflow.python.keras.engine.training) is deprecated and will be removed in a future version.\n",
      "Instructions for updating:\n",
      "Please use Model.evaluate, which supports generators.\n",
      "WARNING:tensorflow:sample_weight modes were coerced from\n",
      "  ...\n",
      "    to  \n",
      "  ['...']\n"
     ]
    },
    {
     "data": {
      "text/plain": [
       "0.51704544"
      ]
     },
     "execution_count": 22,
     "metadata": {},
     "output_type": "execute_result"
    }
   ],
   "source": [
    "ev = model.evaluate_generator(test_generator, steps=STEP_SIZE_TEST,  workers=0, use_multiprocessing=False)\n",
    "ev[1]"
   ]
  },
  {
   "cell_type": "code",
   "execution_count": 23,
   "metadata": {},
   "outputs": [],
   "source": [
    "test_generator.reset()\n",
    "predictionsDF = pd.DataFrame(model.predict(test_generator),columns=[\"predictedProb\"])"
   ]
  },
  {
   "cell_type": "code",
   "execution_count": 24,
   "metadata": {},
   "outputs": [
    {
     "data": {
      "text/html": [
       "<div>\n",
       "<style scoped>\n",
       "    .dataframe tbody tr th:only-of-type {\n",
       "        vertical-align: middle;\n",
       "    }\n",
       "\n",
       "    .dataframe tbody tr th {\n",
       "        vertical-align: top;\n",
       "    }\n",
       "\n",
       "    .dataframe thead th {\n",
       "        text-align: right;\n",
       "    }\n",
       "</style>\n",
       "<table border=\"1\" class=\"dataframe\">\n",
       "  <thead>\n",
       "    <tr style=\"text-align: right;\">\n",
       "      <th></th>\n",
       "      <th>filename</th>\n",
       "      <th>class</th>\n",
       "      <th>predictedProb</th>\n",
       "      <th>patient_study</th>\n",
       "      <th>actualClass</th>\n",
       "      <th>predClass</th>\n",
       "      <th>predVsActual</th>\n",
       "    </tr>\n",
       "  </thead>\n",
       "  <tbody>\n",
       "    <tr>\n",
       "      <th>0</th>\n",
       "      <td>MURA-v1.1/valid/XR_WRIST/patient11185/study1_p...</td>\n",
       "      <td>positive</td>\n",
       "      <td>0.363766</td>\n",
       "      <td>patient11185/study1_positive</td>\n",
       "      <td>1</td>\n",
       "      <td>0</td>\n",
       "      <td>0</td>\n",
       "    </tr>\n",
       "    <tr>\n",
       "      <th>1</th>\n",
       "      <td>MURA-v1.1/valid/XR_WRIST/patient11185/study1_p...</td>\n",
       "      <td>positive</td>\n",
       "      <td>0.363766</td>\n",
       "      <td>patient11185/study1_positive</td>\n",
       "      <td>1</td>\n",
       "      <td>0</td>\n",
       "      <td>0</td>\n",
       "    </tr>\n",
       "    <tr>\n",
       "      <th>2</th>\n",
       "      <td>MURA-v1.1/valid/XR_WRIST/patient11185/study1_p...</td>\n",
       "      <td>positive</td>\n",
       "      <td>0.363765</td>\n",
       "      <td>patient11185/study1_positive</td>\n",
       "      <td>1</td>\n",
       "      <td>0</td>\n",
       "      <td>0</td>\n",
       "    </tr>\n",
       "    <tr>\n",
       "      <th>3</th>\n",
       "      <td>MURA-v1.1/valid/XR_WRIST/patient11185/study1_p...</td>\n",
       "      <td>positive</td>\n",
       "      <td>0.363766</td>\n",
       "      <td>patient11185/study1_positive</td>\n",
       "      <td>1</td>\n",
       "      <td>0</td>\n",
       "      <td>0</td>\n",
       "    </tr>\n",
       "    <tr>\n",
       "      <th>4</th>\n",
       "      <td>MURA-v1.1/valid/XR_WRIST/patient11186/study1_p...</td>\n",
       "      <td>positive</td>\n",
       "      <td>0.363763</td>\n",
       "      <td>patient11186/study1_positive</td>\n",
       "      <td>1</td>\n",
       "      <td>0</td>\n",
       "      <td>0</td>\n",
       "    </tr>\n",
       "    <tr>\n",
       "      <th>...</th>\n",
       "      <td>...</td>\n",
       "      <td>...</td>\n",
       "      <td>...</td>\n",
       "      <td>...</td>\n",
       "      <td>...</td>\n",
       "      <td>...</td>\n",
       "      <td>...</td>\n",
       "    </tr>\n",
       "    <tr>\n",
       "      <th>3192</th>\n",
       "      <td>MURA-v1.1/valid/XR_FINGER/patient11967/study1_...</td>\n",
       "      <td>negative</td>\n",
       "      <td>0.363761</td>\n",
       "      <td>patient11967/study1_negative</td>\n",
       "      <td>0</td>\n",
       "      <td>0</td>\n",
       "      <td>1</td>\n",
       "    </tr>\n",
       "    <tr>\n",
       "      <th>3193</th>\n",
       "      <td>MURA-v1.1/valid/XR_FINGER/patient11967/study1_...</td>\n",
       "      <td>negative</td>\n",
       "      <td>0.363761</td>\n",
       "      <td>patient11967/study1_negative</td>\n",
       "      <td>0</td>\n",
       "      <td>0</td>\n",
       "      <td>1</td>\n",
       "    </tr>\n",
       "    <tr>\n",
       "      <th>3194</th>\n",
       "      <td>MURA-v1.1/valid/XR_FINGER/patient11738/study1_...</td>\n",
       "      <td>negative</td>\n",
       "      <td>0.363763</td>\n",
       "      <td>patient11738/study1_negative</td>\n",
       "      <td>0</td>\n",
       "      <td>0</td>\n",
       "      <td>1</td>\n",
       "    </tr>\n",
       "    <tr>\n",
       "      <th>3195</th>\n",
       "      <td>MURA-v1.1/valid/XR_FINGER/patient11738/study1_...</td>\n",
       "      <td>negative</td>\n",
       "      <td>0.363763</td>\n",
       "      <td>patient11738/study1_negative</td>\n",
       "      <td>0</td>\n",
       "      <td>0</td>\n",
       "      <td>1</td>\n",
       "    </tr>\n",
       "    <tr>\n",
       "      <th>3196</th>\n",
       "      <td>MURA-v1.1/valid/XR_FINGER/patient11738/study1_...</td>\n",
       "      <td>negative</td>\n",
       "      <td>0.363763</td>\n",
       "      <td>patient11738/study1_negative</td>\n",
       "      <td>0</td>\n",
       "      <td>0</td>\n",
       "      <td>1</td>\n",
       "    </tr>\n",
       "  </tbody>\n",
       "</table>\n",
       "<p>3197 rows × 7 columns</p>\n",
       "</div>"
      ],
      "text/plain": [
       "                                               filename     class  \\\n",
       "0     MURA-v1.1/valid/XR_WRIST/patient11185/study1_p...  positive   \n",
       "1     MURA-v1.1/valid/XR_WRIST/patient11185/study1_p...  positive   \n",
       "2     MURA-v1.1/valid/XR_WRIST/patient11185/study1_p...  positive   \n",
       "3     MURA-v1.1/valid/XR_WRIST/patient11185/study1_p...  positive   \n",
       "4     MURA-v1.1/valid/XR_WRIST/patient11186/study1_p...  positive   \n",
       "...                                                 ...       ...   \n",
       "3192  MURA-v1.1/valid/XR_FINGER/patient11967/study1_...  negative   \n",
       "3193  MURA-v1.1/valid/XR_FINGER/patient11967/study1_...  negative   \n",
       "3194  MURA-v1.1/valid/XR_FINGER/patient11738/study1_...  negative   \n",
       "3195  MURA-v1.1/valid/XR_FINGER/patient11738/study1_...  negative   \n",
       "3196  MURA-v1.1/valid/XR_FINGER/patient11738/study1_...  negative   \n",
       "\n",
       "      predictedProb                 patient_study  actualClass  predClass  \\\n",
       "0          0.363766  patient11185/study1_positive            1          0   \n",
       "1          0.363766  patient11185/study1_positive            1          0   \n",
       "2          0.363765  patient11185/study1_positive            1          0   \n",
       "3          0.363766  patient11185/study1_positive            1          0   \n",
       "4          0.363763  patient11186/study1_positive            1          0   \n",
       "...             ...                           ...          ...        ...   \n",
       "3192       0.363761  patient11967/study1_negative            0          0   \n",
       "3193       0.363761  patient11967/study1_negative            0          0   \n",
       "3194       0.363763  patient11738/study1_negative            0          0   \n",
       "3195       0.363763  patient11738/study1_negative            0          0   \n",
       "3196       0.363763  patient11738/study1_negative            0          0   \n",
       "\n",
       "      predVsActual  \n",
       "0                0  \n",
       "1                0  \n",
       "2                0  \n",
       "3                0  \n",
       "4                0  \n",
       "...            ...  \n",
       "3192             1  \n",
       "3193             1  \n",
       "3194             1  \n",
       "3195             1  \n",
       "3196             1  \n",
       "\n",
       "[3197 rows x 7 columns]"
      ]
     },
     "execution_count": 24,
     "metadata": {},
     "output_type": "execute_result"
    }
   ],
   "source": [
    "def extract_patient(string):\n",
    "    patient = string.split('/')[3]+\"/\"+string.split('/')[4]\n",
    "    return patient\n",
    "\n",
    "def class_binarizer(string):\n",
    "    if string==\"positive\":\n",
    "        return 1\n",
    "    return 0\n",
    "\n",
    "def probability_binarizer(prob):\n",
    "    if prob>=0.5:\n",
    "        return 1\n",
    "    return 0\n",
    "\n",
    "def compareActualVsPred(x):\n",
    "    if x['predClass']==x['actualClass']:\n",
    "        return 1\n",
    "    return 0\n",
    "\n",
    "def create_test_df_for_predict(valid_imgpaths_df):\n",
    "    valid_imgpaths_df['patient_study'] = valid_imgpaths_df['filename'].apply(extract_patient)\n",
    "    valid_imgpaths_df['actualClass'] = valid_imgpaths_df['class'].apply(class_binarizer)\n",
    "    valid_imgpaths_df['predClass'] = valid_imgpaths_df['predictedProb'].apply(probability_binarizer)\n",
    "    valid_imgpaths_df['predVsActual']= valid_imgpaths_df.apply(compareActualVsPred, axis=1)\n",
    "    return valid_imgpaths_df\n",
    "\n",
    "testDF = generate_df(dataset_root, 'valid_image_paths.csv')\n",
    "testDF = pd.concat([testDF, predictionsDF], axis=1)\n",
    "test_df = create_test_df_for_predict(testDF)\n",
    "test_df"
   ]
  },
  {
   "cell_type": "code",
   "execution_count": 25,
   "metadata": {},
   "outputs": [
    {
     "name": "stdout",
     "output_type": "stream",
     "text": [
      "Classification Report\n",
      "              precision    recall  f1-score   support\n",
      "\n",
      "           0       0.52      1.00      0.69      1667\n",
      "           1       0.00      0.00      0.00      1530\n",
      "\n",
      "    accuracy                           0.52      3197\n",
      "   macro avg       0.26      0.50      0.34      3197\n",
      "weighted avg       0.27      0.52      0.36      3197\n",
      "\n"
     ]
    },
    {
     "name": "stderr",
     "output_type": "stream",
     "text": [
      "c:\\users\\chark\\documents\\python\\deeplearning_xrays\\venv\\lib\\site-packages\\sklearn\\metrics\\_classification.py:1221: UndefinedMetricWarning: Precision and F-score are ill-defined and being set to 0.0 in labels with no predicted samples. Use `zero_division` parameter to control this behavior.\n",
      "  _warn_prf(average, modifier, msg_start, len(result))\n"
     ]
    }
   ],
   "source": [
    "print('Classification Report')\n",
    "print(classification_report(testDF['actualClass'], testDF['predClass'], target_names=[\"0\",\"1\"]))"
   ]
  },
  {
   "cell_type": "markdown",
   "metadata": {},
   "source": [
    "#### Averaging our prediction for each study"
   ]
  },
  {
   "cell_type": "code",
   "execution_count": 26,
   "metadata": {},
   "outputs": [],
   "source": [
    "df1 = test_df.groupby(['patient_study','actualClass']).agg(\n",
    "    suma=('predVsActual', 'sum'), counta=('actualClass', 'count'),)\n",
    "df1 = df1.reset_index()\n",
    "df1['percentage'] = df1['suma'] / df1['counta']"
   ]
  },
  {
   "cell_type": "code",
   "execution_count": 27,
   "metadata": {},
   "outputs": [],
   "source": [
    "def majorityBinarizer(x):\n",
    "    if(x['percentage']>=0.5):\n",
    "        return x['actualClass']\n",
    "    else:\n",
    "        if x['actualClass']==1:\n",
    "            return 0\n",
    "    return 1\n",
    "df1['majorityClass'] = df1.apply(majorityBinarizer, axis=1)"
   ]
  },
  {
   "cell_type": "code",
   "execution_count": 28,
   "metadata": {},
   "outputs": [
    {
     "name": "stdout",
     "output_type": "stream",
     "text": [
      "Classification Report\n",
      "              precision    recall  f1-score   support\n",
      "\n",
      "    Negative       0.53      1.00      0.70       539\n",
      "    Positive       0.00      0.00      0.00       469\n",
      "\n",
      "    accuracy                           0.53      1008\n",
      "   macro avg       0.27      0.50      0.35      1008\n",
      "weighted avg       0.29      0.53      0.37      1008\n",
      "\n"
     ]
    }
   ],
   "source": [
    "print('Classification Report')\n",
    "print(classification_report(df1['actualClass'], df1['majorityClass'], target_names=[\"Negative\",\"Positive\"]))"
   ]
  },
  {
   "cell_type": "markdown",
   "metadata": {},
   "source": [
    "#### Roc & AUC"
   ]
  },
  {
   "cell_type": "code",
   "execution_count": 29,
   "metadata": {},
   "outputs": [
    {
     "data": {
      "image/png": "[encoded data removed]",
      "text/plain": [
       "<Figure size 576x432 with 1 Axes>"
      ]
     },
     "metadata": {
      "needs_background": "light"
     },
     "output_type": "display_data"
    }
   ],
   "source": [
    "fpr_keras, tpr_keras, thresholds_keras = roc_curve(df1['actualClass'], df1['majorityClass'])\n",
    "auc_keras = auc(fpr_keras, tpr_keras)\n",
    "plt.figure(1)\n",
    "plt.plot([0, 1], [0, 1], 'k--')\n",
    "plt.plot(fpr_keras, tpr_keras, label='CNN-YC (area = {:.3f})'.format(auc_keras))\n",
    "plt.xlabel('False positive rate')\n",
    "plt.ylabel('True positive rate')\n",
    "plt.title('ROC curve')\n",
    "plt.legend(loc='best')\n",
    "plt.show()"
   ]
  }
 ],
 "metadata": {
  "kernelspec": {
   "display_name": "Python 3",
   "language": "python",
   "name": "python3"
  },
  "language_info": {
   "codemirror_mode": {
    "name": "ipython",
    "version": 3
   },
   "file_extension": ".py",
   "mimetype": "text/x-python",
   "name": "python",
   "nbconvert_exporter": "python",
   "pygments_lexer": "ipython3",
   "version": "3.7.7"
  },
  "latex_envs": {
   "LaTeX_envs_menu_present": true,
   "autoclose": false,
   "autocomplete": true,
   "bibliofile": "biblio.bib",
   "cite_by": "apalike",
   "current_citInitial": 1,
   "eqLabelWithNumbers": true,
   "eqNumInitial": 1,
   "hotkeys": {
    "equation": "Ctrl-E",
    "itemize": "Ctrl-I"
   },
   "labels_anchors": false,
   "latex_user_defs": false,
   "report_style_numbering": false,
   "user_envs_cfg": false
  },
  "pycharm": {
   "stem_cell": {
    "cell_type": "raw",
    "metadata": {
     "collapsed": false
    },
    "source": []
   }
  },
  "toc": {
   "base_numbering": 1,
   "nav_menu": {},
   "number_sections": true,
   "sideBar": true,
   "skip_h1_title": false,
   "title_cell": "Table of Contents",
   "title_sidebar": "Contents",
   "toc_cell": false,
   "toc_position": {},
   "toc_section_display": true,
   "toc_window_display": false
  }
 },
 "nbformat": 4,
 "nbformat_minor": 1
}
